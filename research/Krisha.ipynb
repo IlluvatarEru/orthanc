{
 "cells": [
  {
   "cell_type": "code",
   "execution_count": 2,
   "id": "47a9c77b",
   "metadata": {},
   "outputs": [],
   "source": [
    "import os\n",
    "import sys\n",
    "# to import the files in path\n",
    "module_path = os.path.abspath(os.path.join('..'))\n",
    "if module_path not in sys.path:\n",
    "    sys.path.append(module_path)\n",
    "    \n",
    "from src.orthanc_scrapper import *\n",
    "from src.kz.kz_bi import *\n",
    "from src.kz.krisha import *\n",
    "logging.getLogger('WDM').setLevel(logging.NOTSET)"
   ]
  },
  {
   "cell_type": "code",
   "execution_count": 3,
   "id": "4f283531",
   "metadata": {},
   "outputs": [
    {
     "name": "stderr",
     "output_type": "stream",
     "text": [
      "2022-10-14 17:39:36,197:INFO:logger_init:32:Initializing Krisha\n",
      "2022-10-14 17:39:36,204:INFO:logger_init:32:Initializing Orthanc\n",
      "2022-10-14 17:39:36,204:INFO:init_webdriver:69:Initializing Orthanc's driver\n"
     ]
    },
    {
     "name": "stdout",
     "output_type": "stream",
     "text": [
      "\n"
     ]
    },
    {
     "name": "stderr",
     "output_type": "stream",
     "text": [
      "2022-10-14 17:39:37,702:INFO:find_all_flats_urls_on_main_page:56:Starting to find all flats urls\n",
      "2022-10-14 17:39:42,643:INFO:find_flats_characteristics:131:Starting to find flats characteristics\n",
      "2022-10-14 17:39:42,643:INFO:find_flat_characteristics:68:Starting to find all flats characteristics\n",
      "2022-10-14 17:39:42,644:INFO:init_webdriver:69:Initializing Orthanc's driver\n"
     ]
    },
    {
     "name": "stdout",
     "output_type": "stream",
     "text": [
      "\n"
     ]
    },
    {
     "name": "stderr",
     "output_type": "stream",
     "text": [
      "2022-10-14 17:39:52,744:INFO:get_by_path:89:Looking for://div[starts-with(@class,'offer__price')]\n",
      "2022-10-14 17:39:52,776:INFO:get_by_path:89:Looking for://div[starts-with(@data-name,'flat.floor')]//following::div[3]\n",
      "2022-10-14 17:39:52,799:INFO:get_by_path:89:Looking for://div[starts-with(@data-name,'live.square')]//following::div[3]\n",
      "2022-10-14 17:39:52,820:INFO:find_flat_characteristics:68:Starting to find all flats characteristics\n",
      "2022-10-14 17:39:52,821:INFO:init_webdriver:69:Initializing Orthanc's driver\n"
     ]
    },
    {
     "name": "stdout",
     "output_type": "stream",
     "text": [
      "\n"
     ]
    },
    {
     "name": "stderr",
     "output_type": "stream",
     "text": [
      "2022-10-14 17:40:05,196:INFO:get_by_path:89:Looking for://div[starts-with(@class,'offer__price')]\n",
      "2022-10-14 17:40:05,228:INFO:get_by_path:89:Looking for://div[starts-with(@data-name,'flat.floor')]//following::div[3]\n",
      "2022-10-14 17:40:05,291:INFO:get_by_path:89:Looking for://div[starts-with(@data-name,'live.square')]//following::div[3]\n",
      "2022-10-14 17:40:05,318:INFO:find_flat_characteristics:68:Starting to find all flats characteristics\n",
      "2022-10-14 17:40:05,319:INFO:init_webdriver:69:Initializing Orthanc's driver\n"
     ]
    },
    {
     "name": "stdout",
     "output_type": "stream",
     "text": [
      "\n"
     ]
    },
    {
     "name": "stderr",
     "output_type": "stream",
     "text": [
      "2022-10-14 17:40:14,065:INFO:get_by_path:89:Looking for://div[starts-with(@class,'offer__price')]\n",
      "2022-10-14 17:40:14,096:INFO:get_by_path:89:Looking for://div[starts-with(@data-name,'flat.floor')]//following::div[3]\n",
      "2022-10-14 17:40:14,156:INFO:get_by_path:89:Looking for://div[starts-with(@data-name,'live.square')]//following::div[3]\n",
      "2022-10-14 17:40:14,184:INFO:find_flat_characteristics:68:Starting to find all flats characteristics\n",
      "2022-10-14 17:40:14,185:INFO:init_webdriver:69:Initializing Orthanc's driver\n"
     ]
    },
    {
     "name": "stdout",
     "output_type": "stream",
     "text": [
      "\n"
     ]
    },
    {
     "name": "stderr",
     "output_type": "stream",
     "text": [
      "2022-10-14 17:40:23,337:INFO:get_by_path:89:Looking for://div[starts-with(@class,'offer__price')]\n",
      "2022-10-14 17:40:23,359:INFO:get_by_path:89:Looking for://div[starts-with(@data-name,'flat.floor')]//following::div[3]\n",
      "2022-10-14 17:40:23,376:INFO:get_by_path:89:Looking for://div[starts-with(@data-name,'live.square')]//following::div[3]\n",
      "2022-10-14 17:40:23,394:INFO:find_flat_characteristics:68:Starting to find all flats characteristics\n",
      "2022-10-14 17:40:23,395:INFO:init_webdriver:69:Initializing Orthanc's driver\n"
     ]
    },
    {
     "name": "stdout",
     "output_type": "stream",
     "text": [
      "\n"
     ]
    },
    {
     "name": "stderr",
     "output_type": "stream",
     "text": [
      "2022-10-14 17:40:33,021:INFO:get_by_path:89:Looking for://div[starts-with(@class,'offer__price')]\n",
      "2022-10-14 17:40:33,044:INFO:get_by_path:89:Looking for://div[starts-with(@data-name,'flat.floor')]//following::div[3]\n",
      "2022-10-14 17:40:33,064:INFO:get_by_path:89:Looking for://div[starts-with(@data-name,'live.square')]//following::div[3]\n",
      "2022-10-14 17:40:33,083:INFO:find_flat_characteristics:68:Starting to find all flats characteristics\n",
      "2022-10-14 17:40:33,084:INFO:init_webdriver:69:Initializing Orthanc's driver\n"
     ]
    },
    {
     "name": "stdout",
     "output_type": "stream",
     "text": [
      "\n"
     ]
    },
    {
     "name": "stderr",
     "output_type": "stream",
     "text": [
      "2022-10-14 17:40:42,713:INFO:get_by_path:89:Looking for://div[starts-with(@class,'offer__price')]\n",
      "2022-10-14 17:40:42,750:INFO:get_by_path:89:Looking for://div[starts-with(@data-name,'flat.floor')]//following::div[3]\n",
      "2022-10-14 17:40:42,778:INFO:get_by_path:89:Looking for://div[starts-with(@data-name,'live.square')]//following::div[3]\n",
      "2022-10-14 17:40:42,806:INFO:find_flat_characteristics:68:Starting to find all flats characteristics\n",
      "2022-10-14 17:40:42,807:INFO:init_webdriver:69:Initializing Orthanc's driver\n"
     ]
    },
    {
     "name": "stdout",
     "output_type": "stream",
     "text": [
      "\n"
     ]
    },
    {
     "name": "stderr",
     "output_type": "stream",
     "text": [
      "2022-10-14 17:40:54,778:INFO:get_by_path:89:Looking for://div[starts-with(@class,'offer__price')]\n",
      "2022-10-14 17:40:54,801:INFO:get_by_path:89:Looking for://div[starts-with(@data-name,'flat.floor')]//following::div[3]\n",
      "2022-10-14 17:40:54,822:INFO:get_by_path:89:Looking for://div[starts-with(@data-name,'live.square')]//following::div[3]\n",
      "2022-10-14 17:40:54,843:INFO:find_flat_characteristics:68:Starting to find all flats characteristics\n",
      "2022-10-14 17:40:54,844:INFO:init_webdriver:69:Initializing Orthanc's driver\n"
     ]
    },
    {
     "name": "stdout",
     "output_type": "stream",
     "text": [
      "\n"
     ]
    },
    {
     "name": "stderr",
     "output_type": "stream",
     "text": [
      "2022-10-14 17:41:04,422:INFO:get_by_path:89:Looking for://div[starts-with(@class,'offer__price')]\n",
      "2022-10-14 17:41:04,441:INFO:get_by_path:89:Looking for://div[starts-with(@data-name,'flat.floor')]//following::div[3]\n",
      "2022-10-14 17:41:04,460:INFO:get_by_path:89:Looking for://div[starts-with(@data-name,'live.square')]//following::div[3]\n",
      "2022-10-14 17:41:04,478:INFO:find_flat_characteristics:68:Starting to find all flats characteristics\n",
      "2022-10-14 17:41:04,479:INFO:init_webdriver:69:Initializing Orthanc's driver\n"
     ]
    },
    {
     "name": "stdout",
     "output_type": "stream",
     "text": [
      "\n"
     ]
    },
    {
     "name": "stderr",
     "output_type": "stream",
     "text": [
      "2022-10-14 17:41:13,674:INFO:get_by_path:89:Looking for://div[starts-with(@class,'offer__price')]\n",
      "2022-10-14 17:41:13,707:INFO:get_by_path:89:Looking for://div[starts-with(@data-name,'flat.floor')]//following::div[3]\n",
      "2022-10-14 17:41:13,737:INFO:get_by_path:89:Looking for://div[starts-with(@data-name,'live.square')]//following::div[3]\n",
      "2022-10-14 17:41:13,780:INFO:find_flat_characteristics:68:Starting to find all flats characteristics\n",
      "2022-10-14 17:41:13,781:INFO:init_webdriver:69:Initializing Orthanc's driver\n"
     ]
    },
    {
     "name": "stdout",
     "output_type": "stream",
     "text": [
      "\n"
     ]
    },
    {
     "name": "stderr",
     "output_type": "stream",
     "text": [
      "2022-10-14 17:41:22,963:INFO:get_by_path:89:Looking for://div[starts-with(@class,'offer__price')]\n",
      "2022-10-14 17:41:22,987:INFO:get_by_path:89:Looking for://div[starts-with(@data-name,'flat.floor')]//following::div[3]\n",
      "2022-10-14 17:41:23,013:INFO:get_by_path:89:Looking for://div[starts-with(@data-name,'live.square')]//following::div[3]\n",
      "2022-10-14 17:41:23,040:INFO:find_flat_characteristics:68:Starting to find all flats characteristics\n",
      "2022-10-14 17:41:23,041:INFO:init_webdriver:69:Initializing Orthanc's driver\n"
     ]
    },
    {
     "name": "stdout",
     "output_type": "stream",
     "text": [
      "\n"
     ]
    },
    {
     "name": "stderr",
     "output_type": "stream",
     "text": [
      "2022-10-14 17:41:31,306:INFO:get_by_path:89:Looking for://div[starts-with(@class,'offer__price')]\n",
      "2022-10-14 17:41:31,328:INFO:get_by_path:89:Looking for://div[starts-with(@data-name,'flat.floor')]//following::div[3]\n",
      "2022-10-14 17:41:31,348:INFO:get_by_path:89:Looking for://div[starts-with(@data-name,'live.square')]//following::div[3]\n",
      "2022-10-14 17:41:31,369:INFO:find_flat_characteristics:68:Starting to find all flats characteristics\n",
      "2022-10-14 17:41:31,370:INFO:init_webdriver:69:Initializing Orthanc's driver\n"
     ]
    },
    {
     "name": "stdout",
     "output_type": "stream",
     "text": [
      "\n"
     ]
    },
    {
     "name": "stderr",
     "output_type": "stream",
     "text": [
      "2022-10-14 17:41:46,020:INFO:get_by_path:89:Looking for://div[starts-with(@class,'offer__price')]\n",
      "2022-10-14 17:41:46,122:INFO:get_by_path:89:Looking for://div[starts-with(@data-name,'flat.floor')]//following::div[3]\n",
      "2022-10-14 17:41:46,166:INFO:get_by_path:89:Looking for://div[starts-with(@data-name,'live.square')]//following::div[3]\n",
      "2022-10-14 17:41:46,201:INFO:find_flat_characteristics:68:Starting to find all flats characteristics\n",
      "2022-10-14 17:41:46,202:INFO:init_webdriver:69:Initializing Orthanc's driver\n"
     ]
    },
    {
     "name": "stdout",
     "output_type": "stream",
     "text": [
      "\n"
     ]
    },
    {
     "name": "stderr",
     "output_type": "stream",
     "text": [
      "2022-10-14 17:41:55,501:INFO:get_by_path:89:Looking for://div[starts-with(@class,'offer__price')]\n",
      "2022-10-14 17:41:55,524:INFO:get_by_path:89:Looking for://div[starts-with(@data-name,'flat.floor')]//following::div[3]\n",
      "2022-10-14 17:41:55,544:INFO:get_by_path:89:Looking for://div[starts-with(@data-name,'live.square')]//following::div[3]\n",
      "2022-10-14 17:41:55,571:INFO:find_flat_characteristics:68:Starting to find all flats characteristics\n",
      "2022-10-14 17:41:55,572:INFO:init_webdriver:69:Initializing Orthanc's driver\n"
     ]
    },
    {
     "name": "stdout",
     "output_type": "stream",
     "text": [
      "\n"
     ]
    },
    {
     "name": "stderr",
     "output_type": "stream",
     "text": [
      "2022-10-14 17:42:05,149:INFO:get_by_path:89:Looking for://div[starts-with(@class,'offer__price')]\n",
      "2022-10-14 17:42:05,175:INFO:get_by_path:89:Looking for://div[starts-with(@data-name,'flat.floor')]//following::div[3]\n",
      "2022-10-14 17:42:05,197:INFO:get_by_path:89:Looking for://div[starts-with(@data-name,'live.square')]//following::div[3]\n",
      "2022-10-14 17:42:05,221:INFO:save_flats_to_file:141:Saving flats characteristics\n"
     ]
    },
    {
     "data": {
      "text/html": [
       "<div>\n",
       "<style scoped>\n",
       "    .dataframe tbody tr th:only-of-type {\n",
       "        vertical-align: middle;\n",
       "    }\n",
       "\n",
       "    .dataframe tbody tr th {\n",
       "        vertical-align: top;\n",
       "    }\n",
       "\n",
       "    .dataframe thead th {\n",
       "        text-align: right;\n",
       "    }\n",
       "</style>\n",
       "<table border=\"1\" class=\"dataframe\">\n",
       "  <thead>\n",
       "    <tr style=\"text-align: right;\">\n",
       "      <th></th>\n",
       "      <th>Floor</th>\n",
       "      <th>Number Of Floors</th>\n",
       "      <th>Surface</th>\n",
       "      <th>Price</th>\n",
       "      <th>Entrance</th>\n",
       "      <th>Link</th>\n",
       "    </tr>\n",
       "  </thead>\n",
       "  <tbody>\n",
       "    <tr>\n",
       "      <th>0</th>\n",
       "      <td>13</td>\n",
       "      <td>16</td>\n",
       "      <td>39.0</td>\n",
       "      <td>29900000</td>\n",
       "      <td>na</td>\n",
       "      <td>https://krisha.kz/a/show/679576373</td>\n",
       "    </tr>\n",
       "    <tr>\n",
       "      <th>0</th>\n",
       "      <td>14</td>\n",
       "      <td>16</td>\n",
       "      <td>40.0</td>\n",
       "      <td>30500000</td>\n",
       "      <td>na</td>\n",
       "      <td>https://krisha.kz/a/show/672691378</td>\n",
       "    </tr>\n",
       "    <tr>\n",
       "      <th>0</th>\n",
       "      <td>13</td>\n",
       "      <td>16</td>\n",
       "      <td>43.0</td>\n",
       "      <td>44000000</td>\n",
       "      <td>na</td>\n",
       "      <td>https://krisha.kz/a/show/679544307</td>\n",
       "    </tr>\n",
       "    <tr>\n",
       "      <th>0</th>\n",
       "      <td>11</td>\n",
       "      <td>14</td>\n",
       "      <td>38.7</td>\n",
       "      <td>28500000</td>\n",
       "      <td>na</td>\n",
       "      <td>https://krisha.kz/a/show/678529701</td>\n",
       "    </tr>\n",
       "    <tr>\n",
       "      <th>0</th>\n",
       "      <td>12</td>\n",
       "      <td>16</td>\n",
       "      <td>41.0</td>\n",
       "      <td>33000000</td>\n",
       "      <td>na</td>\n",
       "      <td>https://krisha.kz/a/show/679518379</td>\n",
       "    </tr>\n",
       "    <tr>\n",
       "      <th>0</th>\n",
       "      <td>13</td>\n",
       "      <td>16</td>\n",
       "      <td>39.0</td>\n",
       "      <td>28400000</td>\n",
       "      <td>na</td>\n",
       "      <td>https://krisha.kz/a/show/675627215</td>\n",
       "    </tr>\n",
       "    <tr>\n",
       "      <th>0</th>\n",
       "      <td>12</td>\n",
       "      <td>16</td>\n",
       "      <td>38.7</td>\n",
       "      <td>30000000</td>\n",
       "      <td>na</td>\n",
       "      <td>https://krisha.kz/a/show/675090158</td>\n",
       "    </tr>\n",
       "    <tr>\n",
       "      <th>0</th>\n",
       "      <td>7</td>\n",
       "      <td>12</td>\n",
       "      <td>40.0</td>\n",
       "      <td>34000000</td>\n",
       "      <td>na</td>\n",
       "      <td>https://krisha.kz/a/show/675414522</td>\n",
       "    </tr>\n",
       "    <tr>\n",
       "      <th>0</th>\n",
       "      <td>4</td>\n",
       "      <td>16</td>\n",
       "      <td>37.6</td>\n",
       "      <td>29900000</td>\n",
       "      <td>na</td>\n",
       "      <td>https://krisha.kz/a/show/679417026</td>\n",
       "    </tr>\n",
       "    <tr>\n",
       "      <th>0</th>\n",
       "      <td>8</td>\n",
       "      <td>16</td>\n",
       "      <td>38.9</td>\n",
       "      <td>32500000</td>\n",
       "      <td>na</td>\n",
       "      <td>https://krisha.kz/a/show/679048319</td>\n",
       "    </tr>\n",
       "    <tr>\n",
       "      <th>0</th>\n",
       "      <td>5</td>\n",
       "      <td>12</td>\n",
       "      <td>40.0</td>\n",
       "      <td>34000000</td>\n",
       "      <td>na</td>\n",
       "      <td>https://krisha.kz/a/show/679573263</td>\n",
       "    </tr>\n",
       "    <tr>\n",
       "      <th>0</th>\n",
       "      <td>7</td>\n",
       "      <td>12</td>\n",
       "      <td>40.0</td>\n",
       "      <td>33500000</td>\n",
       "      <td>na</td>\n",
       "      <td>https://krisha.kz/a/show/679559651</td>\n",
       "    </tr>\n",
       "    <tr>\n",
       "      <th>0</th>\n",
       "      <td>8</td>\n",
       "      <td>16</td>\n",
       "      <td>38.9</td>\n",
       "      <td>32500000</td>\n",
       "      <td>na</td>\n",
       "      <td>https://krisha.kz/a/show/679048322</td>\n",
       "    </tr>\n",
       "    <tr>\n",
       "      <th>0</th>\n",
       "      <td>10</td>\n",
       "      <td>17</td>\n",
       "      <td>39.0</td>\n",
       "      <td>28000000</td>\n",
       "      <td>na</td>\n",
       "      <td>https://krisha.kz/a/show/679417291</td>\n",
       "    </tr>\n",
       "  </tbody>\n",
       "</table>\n",
       "</div>"
      ],
      "text/plain": [
       "  Floor Number Of Floors Surface     Price Entrance  \\\n",
       "0    13               16    39.0  29900000       na   \n",
       "0    14               16    40.0  30500000       na   \n",
       "0    13               16    43.0  44000000       na   \n",
       "0    11               14    38.7  28500000       na   \n",
       "0    12               16    41.0  33000000       na   \n",
       "0    13               16    39.0  28400000       na   \n",
       "0    12               16    38.7  30000000       na   \n",
       "0     7               12    40.0  34000000       na   \n",
       "0     4               16    37.6  29900000       na   \n",
       "0     8               16    38.9  32500000       na   \n",
       "0     5               12    40.0  34000000       na   \n",
       "0     7               12    40.0  33500000       na   \n",
       "0     8               16    38.9  32500000       na   \n",
       "0    10               17    39.0  28000000       na   \n",
       "\n",
       "                                 Link  \n",
       "0  https://krisha.kz/a/show/679576373  \n",
       "0  https://krisha.kz/a/show/672691378  \n",
       "0  https://krisha.kz/a/show/679544307  \n",
       "0  https://krisha.kz/a/show/678529701  \n",
       "0  https://krisha.kz/a/show/679518379  \n",
       "0  https://krisha.kz/a/show/675627215  \n",
       "0  https://krisha.kz/a/show/675090158  \n",
       "0  https://krisha.kz/a/show/675414522  \n",
       "0  https://krisha.kz/a/show/679417026  \n",
       "0  https://krisha.kz/a/show/679048319  \n",
       "0  https://krisha.kz/a/show/679573263  \n",
       "0  https://krisha.kz/a/show/679559651  \n",
       "0  https://krisha.kz/a/show/679048322  \n",
       "0  https://krisha.kz/a/show/679417291  "
      ]
     },
     "execution_count": 3,
     "metadata": {},
     "output_type": "execute_result"
    }
   ],
   "source": [
    "scrap_krisha('Almaty','jazz')"
   ]
  },
  {
   "cell_type": "code",
   "execution_count": 1,
   "id": "a86e856a",
   "metadata": {},
   "outputs": [
    {
     "ename": "NameError",
     "evalue": "name 'scrap_krisha' is not defined",
     "output_type": "error",
     "traceback": [
      "\u001b[1;31m---------------------------------------------------------------------------\u001b[0m",
      "\u001b[1;31mNameError\u001b[0m                                 Traceback (most recent call last)",
      "\u001b[1;32m~\\AppData\\Local\\Temp/ipykernel_23524/2269954327.py\u001b[0m in \u001b[0;36m<module>\u001b[1;34m\u001b[0m\n\u001b[0;32m      1\u001b[0m \u001b[0mcity\u001b[0m \u001b[1;33m=\u001b[0m \u001b[1;34m'astana'\u001b[0m\u001b[1;33m\u001b[0m\u001b[1;33m\u001b[0m\u001b[0m\n\u001b[0;32m      2\u001b[0m \u001b[0mjk_name\u001b[0m \u001b[1;33m=\u001b[0m \u001b[1;34m'Nexpo'\u001b[0m\u001b[1;33m\u001b[0m\u001b[1;33m\u001b[0m\u001b[0m\n\u001b[1;32m----> 3\u001b[1;33m \u001b[0mscrap_krisha\u001b[0m\u001b[1;33m(\u001b[0m\u001b[0mcity\u001b[0m\u001b[1;33m,\u001b[0m\u001b[0mjk_name\u001b[0m\u001b[1;33m)\u001b[0m\u001b[1;33m\u001b[0m\u001b[1;33m\u001b[0m\u001b[0m\n\u001b[0m",
      "\u001b[1;31mNameError\u001b[0m: name 'scrap_krisha' is not defined"
     ]
    }
   ],
   "source": [
    "city = 'astana'\n",
    "jk_name = 'Nexpo'\n",
    "scrap_krisha(city,jk_name)"
   ]
  },
  {
   "cell_type": "code",
   "execution_count": 4,
   "id": "7e0a7c31",
   "metadata": {},
   "outputs": [
    {
     "name": "stdout",
     "output_type": "stream",
     "text": [
      "\n",
      "\n",
      "\n"
     ]
    },
    {
     "data": {
      "text/html": [
       "<div>\n",
       "<style scoped>\n",
       "    .dataframe tbody tr th:only-of-type {\n",
       "        vertical-align: middle;\n",
       "    }\n",
       "\n",
       "    .dataframe tbody tr th {\n",
       "        vertical-align: top;\n",
       "    }\n",
       "\n",
       "    .dataframe thead th {\n",
       "        text-align: right;\n",
       "    }\n",
       "</style>\n",
       "<table border=\"1\" class=\"dataframe\">\n",
       "  <thead>\n",
       "    <tr style=\"text-align: right;\">\n",
       "      <th></th>\n",
       "      <th>Floor</th>\n",
       "      <th>Number Of Floors</th>\n",
       "      <th>Surface</th>\n",
       "      <th>Price</th>\n",
       "      <th>Entrance</th>\n",
       "      <th>Link</th>\n",
       "    </tr>\n",
       "  </thead>\n",
       "  <tbody>\n",
       "    <tr>\n",
       "      <th>0</th>\n",
       "      <td>5</td>\n",
       "      <td>9</td>\n",
       "      <td>42.82</td>\n",
       "      <td>25500000</td>\n",
       "      <td>na</td>\n",
       "      <td>https://krisha.kz/a/show/679522813</td>\n",
       "    </tr>\n",
       "    <tr>\n",
       "      <th>0</th>\n",
       "      <td>8</td>\n",
       "      <td>12</td>\n",
       "      <td>41.39</td>\n",
       "      <td>25000000</td>\n",
       "      <td>na</td>\n",
       "      <td>https://krisha.kz/a/show/678304025</td>\n",
       "    </tr>\n",
       "  </tbody>\n",
       "</table>\n",
       "</div>"
      ],
      "text/plain": [
       "  Floor Number Of Floors Surface     Price Entrance  \\\n",
       "0     5                9   42.82  25500000       na   \n",
       "0     8               12   41.39  25000000       na   \n",
       "\n",
       "                                 Link  \n",
       "0  https://krisha.kz/a/show/679522813  \n",
       "0  https://krisha.kz/a/show/678304025  "
      ]
     },
     "execution_count": 4,
     "metadata": {},
     "output_type": "execute_result"
    }
   ],
   "source": [
    "scrap_krisha(city,'Aqua')"
   ]
  },
  {
   "cell_type": "code",
   "execution_count": null,
   "id": "28369ea7",
   "metadata": {},
   "outputs": [],
   "source": []
  }
 ],
 "metadata": {
  "kernelspec": {
   "display_name": "Python 3 (ipykernel)",
   "language": "python",
   "name": "python3"
  },
  "language_info": {
   "codemirror_mode": {
    "name": "ipython",
    "version": 3
   },
   "file_extension": ".py",
   "mimetype": "text/x-python",
   "name": "python",
   "nbconvert_exporter": "python",
   "pygments_lexer": "ipython3",
   "version": "3.9.7"
  }
 },
 "nbformat": 4,
 "nbformat_minor": 5
}
