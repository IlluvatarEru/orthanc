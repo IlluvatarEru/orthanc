{
 "cells": [
  {
   "cell_type": "code",
   "execution_count": 2,
   "id": "47a9c77b",
   "metadata": {},
   "outputs": [],
   "source": [
    "import os\n",
    "import sys\n",
    "# to import the files in path\n",
    "module_path = os.path.abspath(os.path.join('..'))\n",
    "if module_path not in sys.path:\n",
    "    sys.path.append(module_path)\n",
    "    \n",
    "from src.orthanc_scrapper import *\n",
    "from src.kz.kz_bi import *\n",
    "from src.kz.krisha import *\n",
    "logging.getLogger('WDM').setLevel(logging.NOTSET)"
   ]
  },
  {
   "cell_type": "code",
   "execution_count": 3,
   "id": "a86e856a",
   "metadata": {},
   "outputs": [
    {
     "name": "stdout",
     "output_type": "stream",
     "text": [
      "\n",
      "\n",
      "\n"
     ]
    },
    {
     "data": {
      "text/html": [
       "<div>\n",
       "<style scoped>\n",
       "    .dataframe tbody tr th:only-of-type {\n",
       "        vertical-align: middle;\n",
       "    }\n",
       "\n",
       "    .dataframe tbody tr th {\n",
       "        vertical-align: top;\n",
       "    }\n",
       "\n",
       "    .dataframe thead th {\n",
       "        text-align: right;\n",
       "    }\n",
       "</style>\n",
       "<table border=\"1\" class=\"dataframe\">\n",
       "  <thead>\n",
       "    <tr style=\"text-align: right;\">\n",
       "      <th></th>\n",
       "      <th>Floor</th>\n",
       "      <th>Number Of Floors</th>\n",
       "      <th>Surface</th>\n",
       "      <th>Price</th>\n",
       "      <th>Entrance</th>\n",
       "      <th>Link</th>\n",
       "    </tr>\n",
       "  </thead>\n",
       "  <tbody>\n",
       "    <tr>\n",
       "      <th>0</th>\n",
       "      <td>10</td>\n",
       "      <td>16</td>\n",
       "      <td>39.0</td>\n",
       "      <td>30800000</td>\n",
       "      <td>na</td>\n",
       "      <td>https://krisha.kz/a/show/679312112</td>\n",
       "    </tr>\n",
       "    <tr>\n",
       "      <th>0</th>\n",
       "      <td>16</td>\n",
       "      <td>16</td>\n",
       "      <td>39.0</td>\n",
       "      <td>32000000</td>\n",
       "      <td>na</td>\n",
       "      <td>https://krisha.kz/a/show/678928238</td>\n",
       "    </tr>\n",
       "  </tbody>\n",
       "</table>\n",
       "</div>"
      ],
      "text/plain": [
       "  Floor Number Of Floors Surface     Price Entrance  \\\n",
       "0    10               16    39.0  30800000       na   \n",
       "0    16               16    39.0  32000000       na   \n",
       "\n",
       "                                 Link  \n",
       "0  https://krisha.kz/a/show/679312112  \n",
       "0  https://krisha.kz/a/show/678928238  "
      ]
     },
     "execution_count": 3,
     "metadata": {},
     "output_type": "execute_result"
    }
   ],
   "source": [
    "city = 'astana'\n",
    "jk_name = 'Nexpo'\n",
    "scrap_krisha(city,jk_name)"
   ]
  },
  {
   "cell_type": "code",
   "execution_count": 4,
   "id": "7e0a7c31",
   "metadata": {},
   "outputs": [
    {
     "name": "stdout",
     "output_type": "stream",
     "text": [
      "\n",
      "\n",
      "\n"
     ]
    },
    {
     "data": {
      "text/html": [
       "<div>\n",
       "<style scoped>\n",
       "    .dataframe tbody tr th:only-of-type {\n",
       "        vertical-align: middle;\n",
       "    }\n",
       "\n",
       "    .dataframe tbody tr th {\n",
       "        vertical-align: top;\n",
       "    }\n",
       "\n",
       "    .dataframe thead th {\n",
       "        text-align: right;\n",
       "    }\n",
       "</style>\n",
       "<table border=\"1\" class=\"dataframe\">\n",
       "  <thead>\n",
       "    <tr style=\"text-align: right;\">\n",
       "      <th></th>\n",
       "      <th>Floor</th>\n",
       "      <th>Number Of Floors</th>\n",
       "      <th>Surface</th>\n",
       "      <th>Price</th>\n",
       "      <th>Entrance</th>\n",
       "      <th>Link</th>\n",
       "    </tr>\n",
       "  </thead>\n",
       "  <tbody>\n",
       "    <tr>\n",
       "      <th>0</th>\n",
       "      <td>5</td>\n",
       "      <td>9</td>\n",
       "      <td>42.82</td>\n",
       "      <td>25500000</td>\n",
       "      <td>na</td>\n",
       "      <td>https://krisha.kz/a/show/679522813</td>\n",
       "    </tr>\n",
       "    <tr>\n",
       "      <th>0</th>\n",
       "      <td>8</td>\n",
       "      <td>12</td>\n",
       "      <td>41.39</td>\n",
       "      <td>25000000</td>\n",
       "      <td>na</td>\n",
       "      <td>https://krisha.kz/a/show/678304025</td>\n",
       "    </tr>\n",
       "  </tbody>\n",
       "</table>\n",
       "</div>"
      ],
      "text/plain": [
       "  Floor Number Of Floors Surface     Price Entrance  \\\n",
       "0     5                9   42.82  25500000       na   \n",
       "0     8               12   41.39  25000000       na   \n",
       "\n",
       "                                 Link  \n",
       "0  https://krisha.kz/a/show/679522813  \n",
       "0  https://krisha.kz/a/show/678304025  "
      ]
     },
     "execution_count": 4,
     "metadata": {},
     "output_type": "execute_result"
    }
   ],
   "source": [
    "scrap_krisha(city,'Aqua')"
   ]
  },
  {
   "cell_type": "code",
   "execution_count": null,
   "id": "28369ea7",
   "metadata": {},
   "outputs": [],
   "source": []
  }
 ],
 "metadata": {
  "kernelspec": {
   "display_name": "Python 3 (ipykernel)",
   "language": "python",
   "name": "python3"
  },
  "language_info": {
   "codemirror_mode": {
    "name": "ipython",
    "version": 3
   },
   "file_extension": ".py",
   "mimetype": "text/x-python",
   "name": "python",
   "nbconvert_exporter": "python",
   "pygments_lexer": "ipython3",
   "version": "3.9.7"
  }
 },
 "nbformat": 4,
 "nbformat_minor": 5
}
