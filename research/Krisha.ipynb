{
 "cells": [
  {
   "cell_type": "code",
   "execution_count": 1,
   "id": "47a9c77b",
   "metadata": {},
   "outputs": [],
   "source": [
    "import os\n",
    "import sys\n",
    "# to import the files in path\n",
    "module_path = os.path.abspath(os.path.join('..'))\n",
    "if module_path not in sys.path:\n",
    "    sys.path.append(module_path)\n",
    "    \n",
    "from src.orthanc_scrapper import *\n",
    "from src.kz.krisha import *\n",
    "logging.getLogger('WDM').setLevel(logging.NOTSET)"
   ]
  },
  {
   "cell_type": "code",
   "execution_count": 3,
   "id": "4f283531",
   "metadata": {},
   "outputs": [
    {
     "name": "stderr",
     "output_type": "stream",
     "text": [
      "2022-10-14 17:39:36,197:INFO:logger_init:32:Initializing Krisha\n",
      "2022-10-14 17:39:36,204:INFO:logger_init:32:Initializing Orthanc\n",
      "2022-10-14 17:39:36,204:INFO:init_webdriver:69:Initializing Orthanc's driver\n"
     ]
    },
    {
     "name": "stdout",
     "output_type": "stream",
     "text": [
      "\n"
     ]
    },
    {
     "name": "stderr",
     "output_type": "stream",
     "text": [
      "2022-10-14 17:39:37,702:INFO:find_all_flats_urls_on_main_page:56:Starting to find all flats urls\n",
      "2022-10-14 17:39:42,643:INFO:find_flats_characteristics:131:Starting to find flats characteristics\n",
      "2022-10-14 17:39:42,643:INFO:find_flat_characteristics:68:Starting to find all flats characteristics\n",
      "2022-10-14 17:39:42,644:INFO:init_webdriver:69:Initializing Orthanc's driver\n"
     ]
    },
    {
     "name": "stdout",
     "output_type": "stream",
     "text": [
      "\n"
     ]
    },
    {
     "name": "stderr",
     "output_type": "stream",
     "text": [
      "2022-10-14 17:39:52,744:INFO:get_by_path:89:Looking for://div[starts-with(@class,'offer__price')]\n",
      "2022-10-14 17:39:52,776:INFO:get_by_path:89:Looking for://div[starts-with(@data-name,'flat.floor')]//following::div[3]\n",
      "2022-10-14 17:39:52,799:INFO:get_by_path:89:Looking for://div[starts-with(@data-name,'live.square')]//following::div[3]\n",
      "2022-10-14 17:39:52,820:INFO:find_flat_characteristics:68:Starting to find all flats characteristics\n",
      "2022-10-14 17:39:52,821:INFO:init_webdriver:69:Initializing Orthanc's driver\n"
     ]
    },
    {
     "name": "stdout",
     "output_type": "stream",
     "text": [
      "\n"
     ]
    },
    {
     "name": "stderr",
     "output_type": "stream",
     "text": [
      "2022-10-14 17:40:05,196:INFO:get_by_path:89:Looking for://div[starts-with(@class,'offer__price')]\n",
      "2022-10-14 17:40:05,228:INFO:get_by_path:89:Looking for://div[starts-with(@data-name,'flat.floor')]//following::div[3]\n",
      "2022-10-14 17:40:05,291:INFO:get_by_path:89:Looking for://div[starts-with(@data-name,'live.square')]//following::div[3]\n",
      "2022-10-14 17:40:05,318:INFO:find_flat_characteristics:68:Starting to find all flats characteristics\n",
      "2022-10-14 17:40:05,319:INFO:init_webdriver:69:Initializing Orthanc's driver\n"
     ]
    },
    {
     "name": "stdout",
     "output_type": "stream",
     "text": [
      "\n"
     ]
    },
    {
     "name": "stderr",
     "output_type": "stream",
     "text": [
      "2022-10-14 17:40:14,065:INFO:get_by_path:89:Looking for://div[starts-with(@class,'offer__price')]\n",
      "2022-10-14 17:40:14,096:INFO:get_by_path:89:Looking for://div[starts-with(@data-name,'flat.floor')]//following::div[3]\n",
      "2022-10-14 17:40:14,156:INFO:get_by_path:89:Looking for://div[starts-with(@data-name,'live.square')]//following::div[3]\n",
      "2022-10-14 17:40:14,184:INFO:find_flat_characteristics:68:Starting to find all flats characteristics\n",
      "2022-10-14 17:40:14,185:INFO:init_webdriver:69:Initializing Orthanc's driver\n"
     ]
    },
    {
     "name": "stdout",
     "output_type": "stream",
     "text": [
      "\n"
     ]
    },
    {
     "name": "stderr",
     "output_type": "stream",
     "text": [
      "2022-10-14 17:40:23,337:INFO:get_by_path:89:Looking for://div[starts-with(@class,'offer__price')]\n",
      "2022-10-14 17:40:23,359:INFO:get_by_path:89:Looking for://div[starts-with(@data-name,'flat.floor')]//following::div[3]\n",
      "2022-10-14 17:40:23,376:INFO:get_by_path:89:Looking for://div[starts-with(@data-name,'live.square')]//following::div[3]\n",
      "2022-10-14 17:40:23,394:INFO:find_flat_characteristics:68:Starting to find all flats characteristics\n",
      "2022-10-14 17:40:23,395:INFO:init_webdriver:69:Initializing Orthanc's driver\n"
     ]
    },
    {
     "name": "stdout",
     "output_type": "stream",
     "text": [
      "\n"
     ]
    },
    {
     "name": "stderr",
     "output_type": "stream",
     "text": [
      "2022-10-14 17:40:33,021:INFO:get_by_path:89:Looking for://div[starts-with(@class,'offer__price')]\n",
      "2022-10-14 17:40:33,044:INFO:get_by_path:89:Looking for://div[starts-with(@data-name,'flat.floor')]//following::div[3]\n",
      "2022-10-14 17:40:33,064:INFO:get_by_path:89:Looking for://div[starts-with(@data-name,'live.square')]//following::div[3]\n",
      "2022-10-14 17:40:33,083:INFO:find_flat_characteristics:68:Starting to find all flats characteristics\n",
      "2022-10-14 17:40:33,084:INFO:init_webdriver:69:Initializing Orthanc's driver\n"
     ]
    },
    {
     "name": "stdout",
     "output_type": "stream",
     "text": [
      "\n"
     ]
    },
    {
     "name": "stderr",
     "output_type": "stream",
     "text": [
      "2022-10-14 17:40:42,713:INFO:get_by_path:89:Looking for://div[starts-with(@class,'offer__price')]\n",
      "2022-10-14 17:40:42,750:INFO:get_by_path:89:Looking for://div[starts-with(@data-name,'flat.floor')]//following::div[3]\n",
      "2022-10-14 17:40:42,778:INFO:get_by_path:89:Looking for://div[starts-with(@data-name,'live.square')]//following::div[3]\n",
      "2022-10-14 17:40:42,806:INFO:find_flat_characteristics:68:Starting to find all flats characteristics\n",
      "2022-10-14 17:40:42,807:INFO:init_webdriver:69:Initializing Orthanc's driver\n"
     ]
    },
    {
     "name": "stdout",
     "output_type": "stream",
     "text": [
      "\n"
     ]
    },
    {
     "name": "stderr",
     "output_type": "stream",
     "text": [
      "2022-10-14 17:40:54,778:INFO:get_by_path:89:Looking for://div[starts-with(@class,'offer__price')]\n",
      "2022-10-14 17:40:54,801:INFO:get_by_path:89:Looking for://div[starts-with(@data-name,'flat.floor')]//following::div[3]\n",
      "2022-10-14 17:40:54,822:INFO:get_by_path:89:Looking for://div[starts-with(@data-name,'live.square')]//following::div[3]\n",
      "2022-10-14 17:40:54,843:INFO:find_flat_characteristics:68:Starting to find all flats characteristics\n",
      "2022-10-14 17:40:54,844:INFO:init_webdriver:69:Initializing Orthanc's driver\n"
     ]
    },
    {
     "name": "stdout",
     "output_type": "stream",
     "text": [
      "\n"
     ]
    },
    {
     "name": "stderr",
     "output_type": "stream",
     "text": [
      "2022-10-14 17:41:04,422:INFO:get_by_path:89:Looking for://div[starts-with(@class,'offer__price')]\n",
      "2022-10-14 17:41:04,441:INFO:get_by_path:89:Looking for://div[starts-with(@data-name,'flat.floor')]//following::div[3]\n",
      "2022-10-14 17:41:04,460:INFO:get_by_path:89:Looking for://div[starts-with(@data-name,'live.square')]//following::div[3]\n",
      "2022-10-14 17:41:04,478:INFO:find_flat_characteristics:68:Starting to find all flats characteristics\n",
      "2022-10-14 17:41:04,479:INFO:init_webdriver:69:Initializing Orthanc's driver\n"
     ]
    },
    {
     "name": "stdout",
     "output_type": "stream",
     "text": [
      "\n"
     ]
    },
    {
     "name": "stderr",
     "output_type": "stream",
     "text": [
      "2022-10-14 17:41:13,674:INFO:get_by_path:89:Looking for://div[starts-with(@class,'offer__price')]\n",
      "2022-10-14 17:41:13,707:INFO:get_by_path:89:Looking for://div[starts-with(@data-name,'flat.floor')]//following::div[3]\n",
      "2022-10-14 17:41:13,737:INFO:get_by_path:89:Looking for://div[starts-with(@data-name,'live.square')]//following::div[3]\n",
      "2022-10-14 17:41:13,780:INFO:find_flat_characteristics:68:Starting to find all flats characteristics\n",
      "2022-10-14 17:41:13,781:INFO:init_webdriver:69:Initializing Orthanc's driver\n"
     ]
    },
    {
     "name": "stdout",
     "output_type": "stream",
     "text": [
      "\n"
     ]
    },
    {
     "name": "stderr",
     "output_type": "stream",
     "text": [
      "2022-10-14 17:41:22,963:INFO:get_by_path:89:Looking for://div[starts-with(@class,'offer__price')]\n",
      "2022-10-14 17:41:22,987:INFO:get_by_path:89:Looking for://div[starts-with(@data-name,'flat.floor')]//following::div[3]\n",
      "2022-10-14 17:41:23,013:INFO:get_by_path:89:Looking for://div[starts-with(@data-name,'live.square')]//following::div[3]\n",
      "2022-10-14 17:41:23,040:INFO:find_flat_characteristics:68:Starting to find all flats characteristics\n",
      "2022-10-14 17:41:23,041:INFO:init_webdriver:69:Initializing Orthanc's driver\n"
     ]
    },
    {
     "name": "stdout",
     "output_type": "stream",
     "text": [
      "\n"
     ]
    },
    {
     "name": "stderr",
     "output_type": "stream",
     "text": [
      "2022-10-14 17:41:31,306:INFO:get_by_path:89:Looking for://div[starts-with(@class,'offer__price')]\n",
      "2022-10-14 17:41:31,328:INFO:get_by_path:89:Looking for://div[starts-with(@data-name,'flat.floor')]//following::div[3]\n",
      "2022-10-14 17:41:31,348:INFO:get_by_path:89:Looking for://div[starts-with(@data-name,'live.square')]//following::div[3]\n",
      "2022-10-14 17:41:31,369:INFO:find_flat_characteristics:68:Starting to find all flats characteristics\n",
      "2022-10-14 17:41:31,370:INFO:init_webdriver:69:Initializing Orthanc's driver\n"
     ]
    },
    {
     "name": "stdout",
     "output_type": "stream",
     "text": [
      "\n"
     ]
    },
    {
     "name": "stderr",
     "output_type": "stream",
     "text": [
      "2022-10-14 17:41:46,020:INFO:get_by_path:89:Looking for://div[starts-with(@class,'offer__price')]\n",
      "2022-10-14 17:41:46,122:INFO:get_by_path:89:Looking for://div[starts-with(@data-name,'flat.floor')]//following::div[3]\n",
      "2022-10-14 17:41:46,166:INFO:get_by_path:89:Looking for://div[starts-with(@data-name,'live.square')]//following::div[3]\n",
      "2022-10-14 17:41:46,201:INFO:find_flat_characteristics:68:Starting to find all flats characteristics\n",
      "2022-10-14 17:41:46,202:INFO:init_webdriver:69:Initializing Orthanc's driver\n"
     ]
    },
    {
     "name": "stdout",
     "output_type": "stream",
     "text": [
      "\n"
     ]
    },
    {
     "name": "stderr",
     "output_type": "stream",
     "text": [
      "2022-10-14 17:41:55,501:INFO:get_by_path:89:Looking for://div[starts-with(@class,'offer__price')]\n",
      "2022-10-14 17:41:55,524:INFO:get_by_path:89:Looking for://div[starts-with(@data-name,'flat.floor')]//following::div[3]\n",
      "2022-10-14 17:41:55,544:INFO:get_by_path:89:Looking for://div[starts-with(@data-name,'live.square')]//following::div[3]\n",
      "2022-10-14 17:41:55,571:INFO:find_flat_characteristics:68:Starting to find all flats characteristics\n",
      "2022-10-14 17:41:55,572:INFO:init_webdriver:69:Initializing Orthanc's driver\n"
     ]
    },
    {
     "name": "stdout",
     "output_type": "stream",
     "text": [
      "\n"
     ]
    },
    {
     "name": "stderr",
     "output_type": "stream",
     "text": [
      "2022-10-14 17:42:05,149:INFO:get_by_path:89:Looking for://div[starts-with(@class,'offer__price')]\n",
      "2022-10-14 17:42:05,175:INFO:get_by_path:89:Looking for://div[starts-with(@data-name,'flat.floor')]//following::div[3]\n",
      "2022-10-14 17:42:05,197:INFO:get_by_path:89:Looking for://div[starts-with(@data-name,'live.square')]//following::div[3]\n",
      "2022-10-14 17:42:05,221:INFO:save_flats_to_file:141:Saving flats characteristics\n"
     ]
    },
    {
     "data": {
      "text/html": [
       "<div>\n",
       "<style scoped>\n",
       "    .dataframe tbody tr th:only-of-type {\n",
       "        vertical-align: middle;\n",
       "    }\n",
       "\n",
       "    .dataframe tbody tr th {\n",
       "        vertical-align: top;\n",
       "    }\n",
       "\n",
       "    .dataframe thead th {\n",
       "        text-align: right;\n",
       "    }\n",
       "</style>\n",
       "<table border=\"1\" class=\"dataframe\">\n",
       "  <thead>\n",
       "    <tr style=\"text-align: right;\">\n",
       "      <th></th>\n",
       "      <th>Floor</th>\n",
       "      <th>Number Of Floors</th>\n",
       "      <th>Surface</th>\n",
       "      <th>Price</th>\n",
       "      <th>Entrance</th>\n",
       "      <th>Link</th>\n",
       "    </tr>\n",
       "  </thead>\n",
       "  <tbody>\n",
       "    <tr>\n",
       "      <th>0</th>\n",
       "      <td>13</td>\n",
       "      <td>16</td>\n",
       "      <td>39.0</td>\n",
       "      <td>29900000</td>\n",
       "      <td>na</td>\n",
       "      <td>https://krisha.kz/a/show/679576373</td>\n",
       "    </tr>\n",
       "    <tr>\n",
       "      <th>0</th>\n",
       "      <td>14</td>\n",
       "      <td>16</td>\n",
       "      <td>40.0</td>\n",
       "      <td>30500000</td>\n",
       "      <td>na</td>\n",
       "      <td>https://krisha.kz/a/show/672691378</td>\n",
       "    </tr>\n",
       "    <tr>\n",
       "      <th>0</th>\n",
       "      <td>13</td>\n",
       "      <td>16</td>\n",
       "      <td>43.0</td>\n",
       "      <td>44000000</td>\n",
       "      <td>na</td>\n",
       "      <td>https://krisha.kz/a/show/679544307</td>\n",
       "    </tr>\n",
       "    <tr>\n",
       "      <th>0</th>\n",
       "      <td>11</td>\n",
       "      <td>14</td>\n",
       "      <td>38.7</td>\n",
       "      <td>28500000</td>\n",
       "      <td>na</td>\n",
       "      <td>https://krisha.kz/a/show/678529701</td>\n",
       "    </tr>\n",
       "    <tr>\n",
       "      <th>0</th>\n",
       "      <td>12</td>\n",
       "      <td>16</td>\n",
       "      <td>41.0</td>\n",
       "      <td>33000000</td>\n",
       "      <td>na</td>\n",
       "      <td>https://krisha.kz/a/show/679518379</td>\n",
       "    </tr>\n",
       "    <tr>\n",
       "      <th>0</th>\n",
       "      <td>13</td>\n",
       "      <td>16</td>\n",
       "      <td>39.0</td>\n",
       "      <td>28400000</td>\n",
       "      <td>na</td>\n",
       "      <td>https://krisha.kz/a/show/675627215</td>\n",
       "    </tr>\n",
       "    <tr>\n",
       "      <th>0</th>\n",
       "      <td>12</td>\n",
       "      <td>16</td>\n",
       "      <td>38.7</td>\n",
       "      <td>30000000</td>\n",
       "      <td>na</td>\n",
       "      <td>https://krisha.kz/a/show/675090158</td>\n",
       "    </tr>\n",
       "    <tr>\n",
       "      <th>0</th>\n",
       "      <td>7</td>\n",
       "      <td>12</td>\n",
       "      <td>40.0</td>\n",
       "      <td>34000000</td>\n",
       "      <td>na</td>\n",
       "      <td>https://krisha.kz/a/show/675414522</td>\n",
       "    </tr>\n",
       "    <tr>\n",
       "      <th>0</th>\n",
       "      <td>4</td>\n",
       "      <td>16</td>\n",
       "      <td>37.6</td>\n",
       "      <td>29900000</td>\n",
       "      <td>na</td>\n",
       "      <td>https://krisha.kz/a/show/679417026</td>\n",
       "    </tr>\n",
       "    <tr>\n",
       "      <th>0</th>\n",
       "      <td>8</td>\n",
       "      <td>16</td>\n",
       "      <td>38.9</td>\n",
       "      <td>32500000</td>\n",
       "      <td>na</td>\n",
       "      <td>https://krisha.kz/a/show/679048319</td>\n",
       "    </tr>\n",
       "    <tr>\n",
       "      <th>0</th>\n",
       "      <td>5</td>\n",
       "      <td>12</td>\n",
       "      <td>40.0</td>\n",
       "      <td>34000000</td>\n",
       "      <td>na</td>\n",
       "      <td>https://krisha.kz/a/show/679573263</td>\n",
       "    </tr>\n",
       "    <tr>\n",
       "      <th>0</th>\n",
       "      <td>7</td>\n",
       "      <td>12</td>\n",
       "      <td>40.0</td>\n",
       "      <td>33500000</td>\n",
       "      <td>na</td>\n",
       "      <td>https://krisha.kz/a/show/679559651</td>\n",
       "    </tr>\n",
       "    <tr>\n",
       "      <th>0</th>\n",
       "      <td>8</td>\n",
       "      <td>16</td>\n",
       "      <td>38.9</td>\n",
       "      <td>32500000</td>\n",
       "      <td>na</td>\n",
       "      <td>https://krisha.kz/a/show/679048322</td>\n",
       "    </tr>\n",
       "    <tr>\n",
       "      <th>0</th>\n",
       "      <td>10</td>\n",
       "      <td>17</td>\n",
       "      <td>39.0</td>\n",
       "      <td>28000000</td>\n",
       "      <td>na</td>\n",
       "      <td>https://krisha.kz/a/show/679417291</td>\n",
       "    </tr>\n",
       "  </tbody>\n",
       "</table>\n",
       "</div>"
      ],
      "text/plain": [
       "  Floor Number Of Floors Surface     Price Entrance  \\\n",
       "0    13               16    39.0  29900000       na   \n",
       "0    14               16    40.0  30500000       na   \n",
       "0    13               16    43.0  44000000       na   \n",
       "0    11               14    38.7  28500000       na   \n",
       "0    12               16    41.0  33000000       na   \n",
       "0    13               16    39.0  28400000       na   \n",
       "0    12               16    38.7  30000000       na   \n",
       "0     7               12    40.0  34000000       na   \n",
       "0     4               16    37.6  29900000       na   \n",
       "0     8               16    38.9  32500000       na   \n",
       "0     5               12    40.0  34000000       na   \n",
       "0     7               12    40.0  33500000       na   \n",
       "0     8               16    38.9  32500000       na   \n",
       "0    10               17    39.0  28000000       na   \n",
       "\n",
       "                                 Link  \n",
       "0  https://krisha.kz/a/show/679576373  \n",
       "0  https://krisha.kz/a/show/672691378  \n",
       "0  https://krisha.kz/a/show/679544307  \n",
       "0  https://krisha.kz/a/show/678529701  \n",
       "0  https://krisha.kz/a/show/679518379  \n",
       "0  https://krisha.kz/a/show/675627215  \n",
       "0  https://krisha.kz/a/show/675090158  \n",
       "0  https://krisha.kz/a/show/675414522  \n",
       "0  https://krisha.kz/a/show/679417026  \n",
       "0  https://krisha.kz/a/show/679048319  \n",
       "0  https://krisha.kz/a/show/679573263  \n",
       "0  https://krisha.kz/a/show/679559651  \n",
       "0  https://krisha.kz/a/show/679048322  \n",
       "0  https://krisha.kz/a/show/679417291  "
      ]
     },
     "execution_count": 3,
     "metadata": {},
     "output_type": "execute_result"
    }
   ],
   "source": [
    "scrap_krisha('Almaty','jazz')"
   ]
  },
  {
   "cell_type": "code",
   "execution_count": 6,
   "id": "5aa7120c",
   "metadata": {},
   "outputs": [
    {
     "data": {
      "text/plain": [
       "0     65.0 M₸\n",
       "1     62.0 M₸\n",
       "2     41.5 M₸\n",
       "3     48.0 M₸\n",
       "4     34.0 M₸\n",
       "5     48.0 M₸\n",
       "6     41.5 M₸\n",
       "7     37.0 M₸\n",
       "8     55.0 M₸\n",
       "9     49.5 M₸\n",
       "10    62.0 M₸\n",
       "11    35.5 M₸\n",
       "12    49.0 M₸\n",
       "13    48.0 M₸\n",
       "14    37.0 M₸\n",
       "15    45.0 M₸\n",
       "16    36.9 M₸\n",
       "17    37.8 M₸\n",
       "18    48.0 M₸\n",
       "19    48.0 M₸\n",
       "Name: Price, dtype: object"
      ]
     },
     "execution_count": 6,
     "metadata": {},
     "output_type": "execute_result"
    }
   ],
   "source": [
    "flats['Price'].apply(lambda x: format_price_to_million_tenge(x))"
   ]
  },
  {
   "cell_type": "code",
   "execution_count": 5,
   "id": "d9eaeeeb",
   "metadata": {},
   "outputs": [],
   "source": [
    "flats = krisha_scrapper.flats_characteristics"
   ]
  },
  {
   "cell_type": "code",
   "execution_count": 2,
   "id": "a86e856a",
   "metadata": {},
   "outputs": [
    {
     "name": "stderr",
     "output_type": "stream",
     "text": [
      "2022-10-17 09:04:27,326:INFO:logger_init:32:Initializing Krisha\n",
      "2022-10-17 09:04:27,331:INFO:logger_init:32:Initializing Orthanc\n",
      "2022-10-17 09:04:27,333:INFO:init_webdriver:69:Initializing Orthanc's driver\n"
     ]
    },
    {
     "name": "stdout",
     "output_type": "stream",
     "text": [
      "\n"
     ]
    },
    {
     "name": "stderr",
     "output_type": "stream",
     "text": [
      "2022-10-17 09:04:28,897:INFO:find_all_flats_urls_on_main_page:61:Starting to find all flats urls\n",
      "2022-10-17 09:04:32,782:INFO:get_elements_by_path:107:Looking for://div[starts-with(@class,'a-card a-storage-live ddl_product ddl_product_link not-colored is-visibl')]\n",
      "2022-10-17 09:04:32,952:INFO:find_flats_characteristics:156:Starting to find flats characteristics\n",
      "2022-10-17 09:04:32,953:INFO:find_flat_characteristics:73:Starting to find all flats characteristics\n",
      "2022-10-17 09:04:32,953:INFO:init_webdriver:69:Initializing Orthanc's driver\n"
     ]
    },
    {
     "name": "stdout",
     "output_type": "stream",
     "text": [
      "\n"
     ]
    },
    {
     "name": "stderr",
     "output_type": "stream",
     "text": [
      "2022-10-17 09:04:39,893:INFO:get_element_by_path:89:Looking for://div[starts-with(@class,'offer__price')]\n",
      "2022-10-17 09:04:39,925:INFO:get_element_by_path:89:Looking for://div[starts-with(@data-name,'flat.floor')]//following::div[3]\n",
      "2022-10-17 09:04:39,987:INFO:get_element_by_path:89:Looking for://div[starts-with(@data-name,'live.square')]//following::div[3]\n",
      "2022-10-17 09:04:40,016:INFO:find_flat_characteristics:73:Starting to find all flats characteristics\n",
      "2022-10-17 09:04:40,017:INFO:init_webdriver:69:Initializing Orthanc's driver\n"
     ]
    },
    {
     "name": "stdout",
     "output_type": "stream",
     "text": [
      "\n"
     ]
    },
    {
     "name": "stderr",
     "output_type": "stream",
     "text": [
      "2022-10-17 09:04:48,825:INFO:get_element_by_path:89:Looking for://div[starts-with(@class,'offer__price')]\n",
      "2022-10-17 09:04:48,879:INFO:get_element_by_path:89:Looking for://div[starts-with(@data-name,'flat.floor')]//following::div[3]\n",
      "2022-10-17 09:04:48,937:INFO:get_element_by_path:89:Looking for://div[starts-with(@data-name,'live.square')]//following::div[3]\n",
      "2022-10-17 09:04:48,962:INFO:find_flat_characteristics:73:Starting to find all flats characteristics\n",
      "2022-10-17 09:04:48,963:INFO:init_webdriver:69:Initializing Orthanc's driver\n"
     ]
    },
    {
     "name": "stdout",
     "output_type": "stream",
     "text": [
      "\n"
     ]
    },
    {
     "name": "stderr",
     "output_type": "stream",
     "text": [
      "2022-10-17 09:04:57,124:INFO:get_element_by_path:89:Looking for://div[starts-with(@class,'offer__price')]\n",
      "2022-10-17 09:04:57,145:INFO:get_element_by_path:89:Looking for://div[starts-with(@data-name,'flat.floor')]//following::div[3]\n",
      "2022-10-17 09:04:57,162:INFO:get_element_by_path:89:Looking for://div[starts-with(@data-name,'live.square')]//following::div[3]\n",
      "2022-10-17 09:04:57,181:INFO:find_flat_characteristics:73:Starting to find all flats characteristics\n",
      "2022-10-17 09:04:57,182:INFO:init_webdriver:69:Initializing Orthanc's driver\n"
     ]
    },
    {
     "name": "stdout",
     "output_type": "stream",
     "text": [
      "\n"
     ]
    },
    {
     "name": "stderr",
     "output_type": "stream",
     "text": [
      "2022-10-17 09:05:06,171:INFO:get_element_by_path:89:Looking for://div[starts-with(@class,'offer__price')]\n",
      "2022-10-17 09:05:06,194:INFO:get_element_by_path:89:Looking for://div[starts-with(@data-name,'flat.floor')]//following::div[3]\n",
      "2022-10-17 09:05:06,214:INFO:get_element_by_path:89:Looking for://div[starts-with(@data-name,'live.square')]//following::div[3]\n",
      "2022-10-17 09:05:06,234:INFO:find_flat_characteristics:73:Starting to find all flats characteristics\n",
      "2022-10-17 09:05:06,234:INFO:init_webdriver:69:Initializing Orthanc's driver\n"
     ]
    },
    {
     "name": "stdout",
     "output_type": "stream",
     "text": [
      "\n"
     ]
    },
    {
     "name": "stderr",
     "output_type": "stream",
     "text": [
      "2022-10-17 09:05:14,998:INFO:get_element_by_path:89:Looking for://div[starts-with(@class,'offer__price')]\n",
      "2022-10-17 09:05:15,021:INFO:get_element_by_path:89:Looking for://div[starts-with(@data-name,'flat.floor')]//following::div[3]\n",
      "2022-10-17 09:05:15,042:INFO:get_element_by_path:89:Looking for://div[starts-with(@data-name,'live.square')]//following::div[3]\n",
      "2022-10-17 09:05:15,061:INFO:find_flat_characteristics:73:Starting to find all flats characteristics\n",
      "2022-10-17 09:05:15,062:INFO:init_webdriver:69:Initializing Orthanc's driver\n"
     ]
    },
    {
     "name": "stdout",
     "output_type": "stream",
     "text": [
      "\n"
     ]
    },
    {
     "name": "stderr",
     "output_type": "stream",
     "text": [
      "2022-10-17 09:05:24,734:INFO:get_element_by_path:89:Looking for://div[starts-with(@class,'offer__price')]\n",
      "2022-10-17 09:05:24,758:INFO:get_element_by_path:89:Looking for://div[starts-with(@data-name,'flat.floor')]//following::div[3]\n",
      "2022-10-17 09:05:24,779:INFO:get_element_by_path:89:Looking for://div[starts-with(@data-name,'live.square')]//following::div[3]\n",
      "2022-10-17 09:05:24,800:INFO:find_flat_characteristics:73:Starting to find all flats characteristics\n",
      "2022-10-17 09:05:24,801:INFO:init_webdriver:69:Initializing Orthanc's driver\n"
     ]
    },
    {
     "name": "stdout",
     "output_type": "stream",
     "text": [
      "\n"
     ]
    },
    {
     "name": "stderr",
     "output_type": "stream",
     "text": [
      "2022-10-17 09:05:53,427:INFO:get_element_by_path:89:Looking for://div[starts-with(@class,'offer__price')]\n",
      "2022-10-17 09:05:53,449:INFO:get_element_by_path:89:Looking for://div[starts-with(@data-name,'flat.floor')]//following::div[3]\n",
      "2022-10-17 09:05:53,467:INFO:get_element_by_path:89:Looking for://div[starts-with(@data-name,'live.square')]//following::div[3]\n",
      "2022-10-17 09:05:53,487:INFO:find_flat_characteristics:73:Starting to find all flats characteristics\n",
      "2022-10-17 09:05:53,488:INFO:init_webdriver:69:Initializing Orthanc's driver\n"
     ]
    },
    {
     "name": "stdout",
     "output_type": "stream",
     "text": [
      "\n"
     ]
    },
    {
     "name": "stderr",
     "output_type": "stream",
     "text": [
      "2022-10-17 09:06:03,050:INFO:get_element_by_path:89:Looking for://div[starts-with(@class,'offer__price')]\n",
      "2022-10-17 09:06:03,069:INFO:get_element_by_path:89:Looking for://div[starts-with(@data-name,'flat.floor')]//following::div[3]\n",
      "2022-10-17 09:06:03,088:INFO:get_element_by_path:89:Looking for://div[starts-with(@data-name,'live.square')]//following::div[3]\n",
      "2022-10-17 09:06:03,109:INFO:find_flat_characteristics:73:Starting to find all flats characteristics\n",
      "2022-10-17 09:06:03,109:INFO:init_webdriver:69:Initializing Orthanc's driver\n"
     ]
    },
    {
     "name": "stdout",
     "output_type": "stream",
     "text": [
      "\n"
     ]
    },
    {
     "name": "stderr",
     "output_type": "stream",
     "text": [
      "2022-10-17 09:06:24,450:ERROR:init_webdriver:77:Failed to init driver. Trying again.\n",
      "2022-10-17 09:06:24,451:INFO:init_webdriver:69:Initializing Orthanc's driver\n"
     ]
    },
    {
     "name": "stdout",
     "output_type": "stream",
     "text": [
      "\n"
     ]
    },
    {
     "name": "stderr",
     "output_type": "stream",
     "text": [
      "2022-10-17 09:06:41,797:INFO:get_element_by_path:89:Looking for://div[starts-with(@class,'offer__price')]\n",
      "2022-10-17 09:06:41,822:INFO:get_element_by_path:89:Looking for://div[starts-with(@data-name,'flat.floor')]//following::div[3]\n",
      "2022-10-17 09:06:41,839:INFO:get_element_by_path:89:Looking for://div[starts-with(@data-name,'live.square')]//following::div[3]\n",
      "2022-10-17 09:06:41,857:INFO:find_flat_characteristics:73:Starting to find all flats characteristics\n",
      "2022-10-17 09:06:41,858:INFO:init_webdriver:69:Initializing Orthanc's driver\n"
     ]
    },
    {
     "name": "stdout",
     "output_type": "stream",
     "text": [
      "\n"
     ]
    },
    {
     "name": "stderr",
     "output_type": "stream",
     "text": [
      "2022-10-17 09:06:54,222:INFO:get_element_by_path:89:Looking for://div[starts-with(@class,'offer__price')]\n",
      "2022-10-17 09:06:54,242:INFO:get_element_by_path:89:Looking for://div[starts-with(@data-name,'flat.floor')]//following::div[3]\n",
      "2022-10-17 09:06:54,259:INFO:get_element_by_path:89:Looking for://div[starts-with(@data-name,'live.square')]//following::div[3]\n",
      "2022-10-17 09:06:54,279:INFO:find_flat_characteristics:73:Starting to find all flats characteristics\n",
      "2022-10-17 09:06:54,279:INFO:init_webdriver:69:Initializing Orthanc's driver\n"
     ]
    },
    {
     "name": "stdout",
     "output_type": "stream",
     "text": [
      "\n"
     ]
    },
    {
     "name": "stderr",
     "output_type": "stream",
     "text": [
      "2022-10-17 09:07:05,578:INFO:get_element_by_path:89:Looking for://div[starts-with(@class,'offer__price')]\n",
      "2022-10-17 09:07:05,604:INFO:get_element_by_path:89:Looking for://div[starts-with(@data-name,'flat.floor')]//following::div[3]\n",
      "2022-10-17 09:07:05,622:INFO:get_element_by_path:89:Looking for://div[starts-with(@data-name,'live.square')]//following::div[3]\n",
      "2022-10-17 09:07:05,644:INFO:find_flat_characteristics:73:Starting to find all flats characteristics\n",
      "2022-10-17 09:07:05,645:INFO:init_webdriver:69:Initializing Orthanc's driver\n"
     ]
    },
    {
     "name": "stdout",
     "output_type": "stream",
     "text": [
      "\n"
     ]
    },
    {
     "name": "stderr",
     "output_type": "stream",
     "text": [
      "2022-10-17 09:07:14,303:INFO:get_element_by_path:89:Looking for://div[starts-with(@class,'offer__price')]\n",
      "2022-10-17 09:07:14,323:INFO:get_element_by_path:89:Looking for://div[starts-with(@data-name,'flat.floor')]//following::div[3]\n",
      "2022-10-17 09:07:14,340:INFO:get_element_by_path:89:Looking for://div[starts-with(@data-name,'live.square')]//following::div[3]\n",
      "2022-10-17 09:07:14,356:INFO:find_flat_characteristics:73:Starting to find all flats characteristics\n",
      "2022-10-17 09:07:14,357:INFO:init_webdriver:69:Initializing Orthanc's driver\n"
     ]
    },
    {
     "name": "stdout",
     "output_type": "stream",
     "text": [
      "\n"
     ]
    },
    {
     "name": "stderr",
     "output_type": "stream",
     "text": [
      "2022-10-17 09:07:23,240:INFO:get_element_by_path:89:Looking for://div[starts-with(@class,'offer__price')]\n",
      "2022-10-17 09:07:23,261:INFO:get_element_by_path:89:Looking for://div[starts-with(@data-name,'flat.floor')]//following::div[3]\n",
      "2022-10-17 09:07:23,278:INFO:get_element_by_path:89:Looking for://div[starts-with(@data-name,'live.square')]//following::div[3]\n",
      "2022-10-17 09:07:23,294:INFO:find_flat_characteristics:73:Starting to find all flats characteristics\n",
      "2022-10-17 09:07:23,295:INFO:init_webdriver:69:Initializing Orthanc's driver\n"
     ]
    },
    {
     "name": "stdout",
     "output_type": "stream",
     "text": [
      "\n"
     ]
    },
    {
     "name": "stderr",
     "output_type": "stream",
     "text": [
      "2022-10-17 09:07:32,165:INFO:get_element_by_path:89:Looking for://div[starts-with(@class,'offer__price')]\n",
      "2022-10-17 09:07:32,186:INFO:get_element_by_path:89:Looking for://div[starts-with(@data-name,'flat.floor')]//following::div[3]\n",
      "2022-10-17 09:07:32,206:INFO:get_element_by_path:89:Looking for://div[starts-with(@data-name,'live.square')]//following::div[3]\n",
      "2022-10-17 09:07:32,240:INFO:find_flat_characteristics:73:Starting to find all flats characteristics\n",
      "2022-10-17 09:07:32,241:INFO:init_webdriver:69:Initializing Orthanc's driver\n"
     ]
    },
    {
     "name": "stdout",
     "output_type": "stream",
     "text": [
      "\n"
     ]
    },
    {
     "name": "stderr",
     "output_type": "stream",
     "text": [
      "2022-10-17 09:07:57,388:INFO:get_element_by_path:89:Looking for://div[starts-with(@class,'offer__price')]\n",
      "2022-10-17 09:07:57,420:INFO:get_element_by_path:89:Looking for://div[starts-with(@data-name,'flat.floor')]//following::div[3]\n",
      "2022-10-17 09:07:57,521:INFO:get_element_by_path:89:Looking for://div[starts-with(@data-name,'live.square')]//following::div[3]\n",
      "2022-10-17 09:07:57,550:INFO:find_flat_characteristics:73:Starting to find all flats characteristics\n",
      "2022-10-17 09:07:57,551:INFO:init_webdriver:69:Initializing Orthanc's driver\n"
     ]
    },
    {
     "name": "stdout",
     "output_type": "stream",
     "text": [
      "\n"
     ]
    },
    {
     "name": "stderr",
     "output_type": "stream",
     "text": [
      "2022-10-17 09:08:23,670:INFO:get_element_by_path:89:Looking for://div[starts-with(@class,'offer__price')]\n",
      "2022-10-17 09:08:23,725:INFO:get_element_by_path:89:Looking for://div[starts-with(@data-name,'flat.floor')]//following::div[3]\n",
      "2022-10-17 09:08:23,769:INFO:get_element_by_path:89:Looking for://div[starts-with(@data-name,'live.square')]//following::div[3]\n",
      "2022-10-17 09:08:23,794:INFO:find_flat_characteristics:73:Starting to find all flats characteristics\n",
      "2022-10-17 09:08:23,795:INFO:init_webdriver:69:Initializing Orthanc's driver\n"
     ]
    },
    {
     "name": "stdout",
     "output_type": "stream",
     "text": [
      "\n"
     ]
    },
    {
     "name": "stderr",
     "output_type": "stream",
     "text": [
      "2022-10-17 09:08:44,866:INFO:get_element_by_path:89:Looking for://div[starts-with(@class,'offer__price')]\n",
      "2022-10-17 09:08:44,885:INFO:get_element_by_path:89:Looking for://div[starts-with(@data-name,'flat.floor')]//following::div[3]\n",
      "2022-10-17 09:08:44,902:INFO:get_element_by_path:89:Looking for://div[starts-with(@data-name,'live.square')]//following::div[3]\n",
      "2022-10-17 09:08:44,921:INFO:find_flat_characteristics:73:Starting to find all flats characteristics\n",
      "2022-10-17 09:08:44,922:INFO:init_webdriver:69:Initializing Orthanc's driver\n"
     ]
    },
    {
     "name": "stdout",
     "output_type": "stream",
     "text": [
      "\n"
     ]
    },
    {
     "name": "stderr",
     "output_type": "stream",
     "text": [
      "2022-10-17 09:09:00,011:INFO:get_element_by_path:89:Looking for://div[starts-with(@class,'offer__price')]\n",
      "2022-10-17 09:09:00,041:INFO:get_element_by_path:89:Looking for://div[starts-with(@data-name,'flat.floor')]//following::div[3]\n",
      "2022-10-17 09:09:00,062:INFO:get_element_by_path:89:Looking for://div[starts-with(@data-name,'live.square')]//following::div[3]\n",
      "2022-10-17 09:09:00,083:INFO:find_flat_characteristics:73:Starting to find all flats characteristics\n",
      "2022-10-17 09:09:00,083:INFO:init_webdriver:69:Initializing Orthanc's driver\n"
     ]
    },
    {
     "name": "stdout",
     "output_type": "stream",
     "text": [
      "\n"
     ]
    },
    {
     "name": "stderr",
     "output_type": "stream",
     "text": [
      "2022-10-17 09:09:08,759:INFO:get_element_by_path:89:Looking for://div[starts-with(@class,'offer__price')]\n",
      "2022-10-17 09:09:08,779:INFO:get_element_by_path:89:Looking for://div[starts-with(@data-name,'flat.floor')]//following::div[3]\n",
      "2022-10-17 09:09:08,798:INFO:get_element_by_path:89:Looking for://div[starts-with(@data-name,'live.square')]//following::div[3]\n",
      "2022-10-17 09:09:08,817:INFO:find_flat_characteristics:73:Starting to find all flats characteristics\n",
      "2022-10-17 09:09:08,818:INFO:init_webdriver:69:Initializing Orthanc's driver\n"
     ]
    },
    {
     "name": "stdout",
     "output_type": "stream",
     "text": [
      "\n"
     ]
    },
    {
     "name": "stderr",
     "output_type": "stream",
     "text": [
      "2022-10-17 09:09:20,990:INFO:get_element_by_path:89:Looking for://div[starts-with(@class,'offer__price')]\n",
      "2022-10-17 09:09:21,011:INFO:get_element_by_path:89:Looking for://div[starts-with(@data-name,'flat.floor')]//following::div[3]\n",
      "2022-10-17 09:09:21,030:INFO:get_element_by_path:89:Looking for://div[starts-with(@data-name,'live.square')]//following::div[3]\n",
      "2022-10-17 09:09:21,054:INFO:save_flats_to_file:167:Saving flats characteristics\n"
     ]
    }
   ],
   "source": [
    "city = 'almaty'\n",
    "jk_name = 'jazz'\n",
    "number_of_rooms = 2\n",
    "krisha_scrapper = KrishaScrapper(city, jk_name, number_of_rooms)\n",
    "krisha_scrapper.find_all_flats_urls_on_main_page()\n",
    "flats = krisha_scrapper.find_flats_characteristics()"
   ]
  },
  {
   "cell_type": "code",
   "execution_count": 4,
   "id": "7e0a7c31",
   "metadata": {},
   "outputs": [
    {
     "name": "stdout",
     "output_type": "stream",
     "text": [
      "\n",
      "\n",
      "\n"
     ]
    },
    {
     "data": {
      "text/html": [
       "<div>\n",
       "<style scoped>\n",
       "    .dataframe tbody tr th:only-of-type {\n",
       "        vertical-align: middle;\n",
       "    }\n",
       "\n",
       "    .dataframe tbody tr th {\n",
       "        vertical-align: top;\n",
       "    }\n",
       "\n",
       "    .dataframe thead th {\n",
       "        text-align: right;\n",
       "    }\n",
       "</style>\n",
       "<table border=\"1\" class=\"dataframe\">\n",
       "  <thead>\n",
       "    <tr style=\"text-align: right;\">\n",
       "      <th></th>\n",
       "      <th>Floor</th>\n",
       "      <th>Number Of Floors</th>\n",
       "      <th>Surface</th>\n",
       "      <th>Price</th>\n",
       "      <th>Entrance</th>\n",
       "      <th>Link</th>\n",
       "    </tr>\n",
       "  </thead>\n",
       "  <tbody>\n",
       "    <tr>\n",
       "      <th>0</th>\n",
       "      <td>5</td>\n",
       "      <td>9</td>\n",
       "      <td>42.82</td>\n",
       "      <td>25500000</td>\n",
       "      <td>na</td>\n",
       "      <td>https://krisha.kz/a/show/679522813</td>\n",
       "    </tr>\n",
       "    <tr>\n",
       "      <th>0</th>\n",
       "      <td>8</td>\n",
       "      <td>12</td>\n",
       "      <td>41.39</td>\n",
       "      <td>25000000</td>\n",
       "      <td>na</td>\n",
       "      <td>https://krisha.kz/a/show/678304025</td>\n",
       "    </tr>\n",
       "  </tbody>\n",
       "</table>\n",
       "</div>"
      ],
      "text/plain": [
       "  Floor Number Of Floors Surface     Price Entrance  \\\n",
       "0     5                9   42.82  25500000       na   \n",
       "0     8               12   41.39  25000000       na   \n",
       "\n",
       "                                 Link  \n",
       "0  https://krisha.kz/a/show/679522813  \n",
       "0  https://krisha.kz/a/show/678304025  "
      ]
     },
     "execution_count": 4,
     "metadata": {},
     "output_type": "execute_result"
    }
   ],
   "source": [
    "scrap_krisha(city,'Aqua')"
   ]
  },
  {
   "cell_type": "code",
   "execution_count": null,
   "id": "28369ea7",
   "metadata": {},
   "outputs": [],
   "source": []
  }
 ],
 "metadata": {
  "kernelspec": {
   "display_name": "Python 3 (ipykernel)",
   "language": "python",
   "name": "python3"
  },
  "language_info": {
   "codemirror_mode": {
    "name": "ipython",
    "version": 3
   },
   "file_extension": ".py",
   "mimetype": "text/x-python",
   "name": "python",
   "nbconvert_exporter": "python",
   "pygments_lexer": "ipython3",
   "version": "3.9.7"
  }
 },
 "nbformat": 4,
 "nbformat_minor": 5
}
